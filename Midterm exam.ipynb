{
 "cells": [
  {
   "cell_type": "markdown",
   "metadata": {},
   "source": [
    "# Multiple choice questions: "
   ]
  },
  {
   "cell_type": "raw",
   "metadata": {},
   "source": [
    "1- The best way for feature selection is ......\n",
    "\n",
    "a- applying PCA to the input data\n",
    "b- using Lasso regression \n",
    "c- split the data into test and train sets\n",
    "d- applying cross validation method\n",
    "\n",
    "answer (b)"
   ]
  },
  {
   "cell_type": "raw",
   "metadata": {},
   "source": [
    "2- Confusion matrix is used to ........\n",
    "\n",
    "a- measure the accuracy of regression problems\n",
    "b- remove unused features to reduce confusion\n",
    "c- calculate residuals\n",
    "d- evaluate the accuracy of the classification problems\n",
    "\n",
    "answer (d)"
   ]
  },
  {
   "cell_type": "raw",
   "metadata": {},
   "source": [
    "3- To display the corrolation between columns of the dataframe, .....\n",
    "\n",
    "a- draw the pairplot from seaborn of the data frame\n",
    "b- apply .corr() method to the dataframe\n",
    "c- use .describe() and .info() to the data frame\n",
    "d- draw the histogram of the data frame\n",
    "\n",
    "answer (a)"
   ]
  },
  {
   "cell_type": "raw",
   "metadata": {},
   "source": [
    "4- To plot a column of data frame while there is a time sereis column, It is important to  .... \n",
    "\n",
    "a- use the seaborn plot methods\n",
    "b- identify the x axis of the plot\n",
    "c- use the data frame plot methods\n",
    "d- set the time series column as an index of the data frame\n",
    "\n",
    "answer: (d)"
   ]
  },
  {
   "cell_type": "raw",
   "metadata": {},
   "source": [
    "5- Logistic regression is .....\n",
    "\n",
    "a- supervised learning technique for nonlinear regression problems\n",
    "b- unsupervised learning technique for clustering problems\n",
    "c- supervised learning technique for classificaion problems\n",
    "d- preprocessing step for nonlinear regression problems\n",
    "\n",
    "answer: (c)"
   ]
  },
  {
   "cell_type": "raw",
   "metadata": {},
   "source": [
    "6- If the input to relu activation function is negative, the output will be ......\n",
    "\n",
    "a- output = 1/(1+exp(-input))\n",
    "b- the same as the input\n",
    "c- zero\n",
    "d- slope of the function at the input point\n",
    "\n",
    "answer: (c)"
   ]
  },
  {
   "cell_type": "raw",
   "metadata": {},
   "source": [
    "7- To find the best number of clusters of data, ......\n",
    "\n",
    "a- calculate the inertia of the model at different n_clusters, and then choose one with low inertia\n",
    "b- it is prefered to visualize the data\n",
    "c- it is hard to know the number of clusters, it depends on the data and application\n",
    "d- use the t-SNE to be able to visualize the data\n",
    "\n",
    "answer: (a)"
   ]
  },
  {
   "cell_type": "raw",
   "metadata": {},
   "source": [
    "8- Supervised learning algorithms for classification problems ........\n",
    "\n",
    "a- predict the data based on saved database \n",
    "b- try to find the decision boundary between different classes\n",
    "c- classify the data into different clusters based on distance to centroids points\n",
    "d- do the same job as unsupervised clustering problems\n",
    "\n",
    "answer: (b)"
   ]
  },
  {
   "cell_type": "markdown",
   "metadata": {},
   "source": [
    "# True/False questions:"
   ]
  },
  {
   "cell_type": "raw",
   "metadata": {},
   "source": [
    "1- Confusion matrix can be used for multiclass problems!\n",
    "a- True\n",
    "b- False\n",
    "\n",
    "answer: a"
   ]
  },
  {
   "cell_type": "raw",
   "metadata": {},
   "source": [
    "2- Sklearn liberary can deal directly with categorical variables!\n",
    "\n",
    "a- True\n",
    "b- False\n",
    "\n",
    "answer: False, we should preprocess categorical variables"
   ]
  },
  {
   "cell_type": "raw",
   "metadata": {},
   "source": [
    "3- You have to be an expert to assign the exact number of clusters n for kmean function!\n",
    "\n",
    "a- True\n",
    "b- False\n",
    "\n",
    "answer: False"
   ]
  },
  {
   "cell_type": "raw",
   "metadata": {},
   "source": [
    "4- Clustering and classification learning techniques give the same results for the same input data!\n",
    "\n",
    "a- True\n",
    "b- False\n",
    "\n",
    "answer: False"
   ]
  },
  {
   "cell_type": "raw",
   "metadata": {},
   "source": [
    "5- Preprocessing of the input data is required only during learning step, later we can use the input data without scalling to predict the output!\n",
    "\n",
    "a- True\n",
    "b- False\n",
    "\n",
    "answer: False"
   ]
  },
  {
   "cell_type": "raw",
   "metadata": {},
   "source": [
    "6- Linear regression can be used even for nonlinear functions! \n",
    "\n",
    "a- True\n",
    "b- False\n",
    "\n",
    "answer: True"
   ]
  },
  {
   "cell_type": "raw",
   "metadata": {},
   "source": [
    "7- If you downsample the data, you are not able to get the original data again!\n",
    "\n",
    "a- True\n",
    "b- False\n",
    "\n",
    "answer: True"
   ]
  },
  {
   "cell_type": "markdown",
   "metadata": {},
   "source": [
    "# Datacamp questions:\n"
   ]
  },
  {
   "cell_type": "raw",
   "metadata": {},
   "source": [
    "# General Question \n",
    "1- Write a function that accepts a positive integer k and returns a list that contains the first five multiples of k. The multiples should be calculated starting from 1 to 5 (including both 1 and 5). For example the first five multiples of 3 are 3, 6, 9, 12, and 15\n",
    "\n",
    "One possible answer: \n",
    "# Type your code here\n",
    "def mul(x):\n",
    "    y=list()\n",
    "    for z in range(1,6):\n",
    "        y.append((z)*x)\n",
    "    return y\n",
    "\n",
    "Second answer:\n",
    "# Type your code here\n",
    "def mul(x):\n",
    "    y=list()\n",
    "    for z in range(0,5):\n",
    "        y.insert(z, (z+1)*x)\n",
    "    return y\n"
   ]
  },
  {
   "cell_type": "raw",
   "metadata": {},
   "source": [
    "2- The following three lists represent the obe=servations and results of an experemnt:\n",
    "\n",
    "weight = [15, 12, 14.5, 18, 19]\n",
    "pressure = [100, 80, 99, 160, 155]\n",
    "response = [12, 12.2, 14, 12.9, 15]\n",
    "\n",
    "1- creat a data frame from these lists.\n",
    "2- Draw the relation between weight and response and pressure and response\n",
    "3- find the statistical summary of the observations\n",
    "\n",
    "Answer: \n",
    "\n",
    "import pandas as pd\n",
    "import matplotlib.pyplot as plt\n",
    "data = pd.DataFrame({'weight':weight, 'pressure':pressure, 'response':response})\n",
    "plt.plot(data.weight, data.pressure)\n",
    "plt.show()\n",
    "\n",
    "data.describe()\n"
   ]
  },
  {
   "cell_type": "raw",
   "metadata": {},
   "source": [
    "3- Download Iris data set from kaggle (https://www.kaggle.com/arshid/iris-flower-dataset), \n",
    "\n",
    "1- plot the histogram of each feature of the data set\n",
    "\n",
    "Possible answer:\n",
    "data = pd.read_csv('IRIS.csv')\n",
    "data.head()\n",
    "plt.hist(data['sepal_length'], label=data['species'])\n",
    "plt.show()"
   ]
  },
  {
   "cell_type": "raw",
   "metadata": {},
   "source": [
    "4- use the iris data set, callculate the statistical summary of each species and the overall statistical summary\n",
    "\n",
    "Possible answer: \n",
    "#overall summary:\n",
    "data.describe()\n",
    "# summary for the setosa\n",
    "data[data['species']=='Iris-setosa']].describe()\n",
    "# and so on "
   ]
  },
  {
   "cell_type": "raw",
   "metadata": {},
   "source": [
    "5- Normalize the data given in Q3 and scale each column by the standard deviation.\n",
    "hint: use StandardScaler from sklearn.preprocessing\n",
    "\n",
    "possible answer: \n",
    "from sklearn.preprocessing import StandardScaler\n",
    "d = StandardScaler()\n",
    "transformed = d.fit_transform(data.iloc[:,0:4])"
   ]
  },
  {
   "cell_type": "markdown",
   "metadata": {},
   "source": [
    "# Data Set Mini Question"
   ]
  },
  {
   "cell_type": "raw",
   "metadata": {},
   "source": [
    "1- For the Iris dataset in Q3:\n",
    "\n",
    "Split the data into test/train split test_size=0.3\n",
    "1- Using random.seed=42. Classifiy using KNN with three classes 3 neighbors. Print the score. \n",
    "2- Using random.seed=42. Cluster the data into 3 clusters using K-mean.  \n",
    "3- Compare the results from 1 and 2\n",
    "\n",
    "Answer: \n",
    "1-\n",
    "from sklearn.neighbors import KNeighborsClassifier \n",
    "from sklearn.cluster import Kmeans\n",
    "from sklearn.model_selection import train_test_split \n",
    "from sklearn.metrics import accuracy_score \n",
    "from sklearn.metrics import classification_report\n",
    "\n",
    "X_train, X_test, y_train, y_test = train_test_split( data.iloc[:,0:4], data['specis'], test_size=0.3, random_state=42)\n",
    "\n",
    "KNN = KNeighborsClassifier(n_neighbors=3) \n",
    "KNN.fit(X_train, y_train)\n",
    "y_predict=KNN.predict(X_test) \n",
    "print(classification_report(y_predict, y_test))\n",
    "\n",
    "2-\n",
    "KM = KMeans(n_clusters = 3)\n",
    "mdl.fit(X_train)\n",
    "mdl.predict(X_test)\n",
    "\n",
    "\n",
    "\n"
   ]
  }
 ],
 "metadata": {
  "kernelspec": {
   "display_name": "Python 3",
   "language": "python",
   "name": "python3"
  },
  "language_info": {
   "codemirror_mode": {
    "name": "ipython",
    "version": 3
   },
   "file_extension": ".py",
   "mimetype": "text/x-python",
   "name": "python",
   "nbconvert_exporter": "python",
   "pygments_lexer": "ipython3",
   "version": "3.6.5"
  }
 },
 "nbformat": 4,
 "nbformat_minor": 2
}
